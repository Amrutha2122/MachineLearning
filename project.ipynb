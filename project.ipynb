{
  "nbformat": 4,
  "nbformat_minor": 0,
  "metadata": {
    "colab": {
      "name": "project.ipynb",
      "provenance": [],
      "toc_visible": true,
      "authorship_tag": "ABX9TyPHRQDPW+FMZ7boQj3SfaFG",
      "include_colab_link": true
    },
    "kernelspec": {
      "name": "python3",
      "display_name": "Python 3"
    }
  },
  "cells": [
    {
      "cell_type": "markdown",
      "metadata": {
        "id": "view-in-github",
        "colab_type": "text"
      },
      "source": [
        "<a href=\"https://colab.research.google.com/github/Amrutha2122/MachineLearning/blob/main/project.ipynb\" target=\"_parent\"><img src=\"https://colab.research.google.com/assets/colab-badge.svg\" alt=\"Open In Colab\"/></a>"
      ]
    },
    {
      "cell_type": "markdown",
      "metadata": {
        "id": "jjq7vm86A4kR"
      },
      "source": [
        "# Project : Youtube adview Prediction"
      ]
    },
    {
      "cell_type": "markdown",
      "metadata": {
        "id": "ENELU6VzBGJ7"
      },
      "source": [
        "**Data Description**\n",
        "\n",
        "The file train.csv contains metrics and other details of about 15000 youtube\n",
        "videos. The metrics include number of views, likes, dislikes, comments and\n",
        "apart from that published date, duration and category are also included.\n",
        "The train.csv file also contains the metric number of adviews which is our\n",
        "target variable for prediction.\n"
      ]
    },
    {
      "cell_type": "markdown",
      "metadata": {
        "id": "72hCVxpvBPiB"
      },
      "source": [
        "**Attribute Information**\n",
        "\n",
        "'vidid' : Unique Identification ID for each video\n",
        "\n",
        "'adview' : The number of adviews for each video\n",
        "\n",
        "'views' : The number of unique views for each video\n",
        "\n",
        "'likes' : The number of likes for each video\n",
        "\n",
        "'dislikes' : The number of likes for each video\n",
        "\n",
        "'comment' : The number of unique comments for each video\n",
        "\n",
        "'published' : The data of uploading the video\n",
        "\n",
        "'duration' : The duration of the video (in min. and seconds)\n",
        "\n",
        "'category' : Category niche of each of the video\n"
      ]
    },
    {
      "cell_type": "markdown",
      "metadata": {
        "id": "Sefw0Vu3BrS2"
      },
      "source": [
        "***Objective***\n",
        "\n",
        "To build a machine learning regression to predict youtube adview count based\n",
        "on other youtube metrics.\n"
      ]
    },
    {
      "cell_type": "markdown",
      "metadata": {
        "id": "RYSwxoXOBy7a"
      },
      "source": [
        "# 1.Import the datasets and libraries, check shape and datatype"
      ]
    },
    {
      "cell_type": "markdown",
      "metadata": {
        "id": "RkcAzY4FCex2"
      },
      "source": [
        "You basically import preinstalled python libraries or packages like numpy, pandas, matplotlib and\n",
        "seaborn for data cleaning and visualisation. Scikitlearn and Keras are imported for machine learning\n",
        "models and neural networks. Using the pandas library we can simply import the dataset in csv format\n",
        "as a pandas dataframe. We can then explore the dataset and check the number of features and\n",
        "samples in the data.\n",
        "\n",
        "Import numpy, pandas, matplotlib and seaborn\n",
        "\n",
        "Import dataset using pandas.csv() method"
      ]
    },
    {
      "cell_type": "code",
      "metadata": {
        "id": "G0DF2MmrCoI2",
        "outputId": "daf0c29a-c96e-409a-9da4-71c5b0cdd105",
        "colab": {
          "base_uri": "https://localhost:8080/",
          "height": 34
        }
      },
      "source": [
        "import numpy as np\n",
        "import pandas as pd\n",
        "import matplotlib.cm as cm\n",
        "import matplotlib.pyplot as plt\n",
        "# Importing data\n",
        "path = \"\" # Put path of your folder of your data if it's not in the same folder\n",
        "data_train = pd.read_csv(path + \"train.csv\")\n",
        "data_train.head()\n",
        "data_train.shape\n",
        "# (14999, 9)\n"
      ],
      "execution_count": null,
      "outputs": [
        {
          "output_type": "execute_result",
          "data": {
            "text/plain": [
              "(14999, 9)"
            ]
          },
          "metadata": {
            "tags": []
          },
          "execution_count": 316
        }
      ]
    },
    {
      "cell_type": "markdown",
      "metadata": {
        "id": "i06MqzxaC1u5"
      },
      "source": [
        "# 2.Visualise the dataset using plotting using heatmaps and plots.\n",
        "\n"
      ]
    },
    {
      "cell_type": "markdown",
      "metadata": {
        "id": "czaNRhVQDIk0"
      },
      "source": [
        "Matplotlib and seaborn libraries can be used for plotting. We can plot for each of the features and\n",
        "visually see the distribution of the data with respect to that feature. We can also use it to spot any\n",
        "outliers whatsoever which will help our model to train and learn better. We can plot a heatmap using\n",
        "the seaborn library where we can visualise the correlations of different features with respect to each\n",
        "other. It helps to see how independent are the features because we may want to remove the features\n",
        "which may not add any value to our model.\n",
        "\n",
        "Plot distributions\n",
        "\n",
        "Plot heatmap of correlation values\n",
        "\n",
        "Remove outliers\n"
      ]
    },
    {
      "cell_type": "code",
      "metadata": {
        "id": "QvroyIRNBqoR",
        "outputId": "20564cdc-8178-4e0f-8982-a466c6e87c55",
        "colab": {
          "base_uri": "https://localhost:8080/",
          "height": 524
        }
      },
      "source": [
        "# Visualization\n",
        "# Individual Plots\n",
        "plt.hist(data_train[\"category\"])\n",
        "plt.show()\n",
        "plt.plot(data_train[\"adview\"])\n",
        "plt.show()\n",
        "# Remove videos with adview greater than 2000000 as outlier\n",
        "data_train = data_train[data_train[\"adview\"] <2000000]"
      ],
      "execution_count": null,
      "outputs": [
        {
          "output_type": "display_data",
          "data": {
            "image/png": "[encoded data removed]",
            "text/plain": [
              "<Figure size 432x288 with 1 Axes>"
            ]
          },
          "metadata": {
            "tags": [],
            "needs_background": "light"
          }
        },
        {
          "output_type": "display_data",
          "data": {
            "image/png": "[encoded data removed]",
            "text/plain": [
              "<Figure size 432x288 with 1 Axes>"
            ]
          },
          "metadata": {
            "tags": [],
            "needs_background": "light"
          }
        }
      ]
    },
    {
      "cell_type": "code",
      "metadata": {
        "id": "Q71X10oQDn35",
        "outputId": "7f5e0a2b-68b5-4024-bc85-666b31d7c016",
        "colab": {
          "base_uri": "https://localhost:8080/",
          "height": 487
        }
      },
      "source": [
        "# Heatmap\n",
        "import seaborn as sns\n",
        "f, ax = plt.subplots(figsize=(10, 8))\n",
        "corr = data_train.corr()\n",
        "sns.heatmap(corr, mask=np.zeros_like(corr, dtype=np.bool), cmap=sns.diverging_palette(220, 10, as_cmap=True),\n",
        "square=True, ax=ax,annot=True)\n",
        "plt.show()"
      ],
      "execution_count": null,
      "outputs": [
        {
          "output_type": "display_data",
          "data": {
            "image/png": "[encoded data removed]",
            "text/plain": [
              "<Figure size 720x576 with 2 Axes>"
            ]
          },
          "metadata": {
            "tags": [],
            "needs_background": "light"
          }
        }
      ]
    },
    {
      "cell_type": "markdown",
      "metadata": {
        "id": "v3GswPdiDf-L"
      },
      "source": [
        "# 3. Clean the dataset by removing missing values and other things.\n",
        "\n",
        "Cleaning the dataset is one of the most essential tasks while solving a machine learning problem.\n",
        "Here in this problem we can remove 'F' and other missing values that might hurt the performance of\n",
        "our model.\n",
        "\n",
        "Remove missing values\n",
        "\n",
        "Remove any other unimportant feature or piece of data\n"
      ]
    },
    {
      "cell_type": "code",
      "metadata": {
        "id": "xts3svjfK1RA",
        "outputId": "fdcd7f8f-d3ef-48ee-e2a7-68d4554da17c",
        "colab": {
          "base_uri": "https://localhost:8080/",
          "height": 195
        }
      },
      "source": [
        "# Removing character \"F\" present in data\n",
        "\n",
        "data_train=data_train[data_train.views!='F']\n",
        "\n",
        "data_train=data_train[data_train.likes!='F']\n",
        "\n",
        "data_train=data_train[data_train.dislikes!='F']\n",
        "\n",
        "data_train=data_train[data_train.comment!='F']\n",
        "\n",
        "data_train.head()\n",
        "\n",
        "# Assigning each category a number for Category feature\n",
        "\n",
        "category={'A': 1,'B':2,'C':3,'D':4,'E':5,'F':6,'G':7,'H':8}\n",
        "\n",
        "data_train[\"category\"]=data_train[\"category\"].map(category)\n",
        "\n",
        "data_train.head()"
      ],
      "execution_count": null,
      "outputs": [
        {
          "output_type": "execute_result",
          "data": {
            "text/html": [
              "<div>\n",
              "<style scoped>\n",
              "    .dataframe tbody tr th:only-of-type {\n",
              "        vertical-align: middle;\n",
              "    }\n",
              "\n",
              "    .dataframe tbody tr th {\n",
              "        vertical-align: top;\n",
              "    }\n",
              "\n",
              "    .dataframe thead th {\n",
              "        text-align: right;\n",
              "    }\n",
              "</style>\n",
              "<table border=\"1\" class=\"dataframe\">\n",
              "  <thead>\n",
              "    <tr style=\"text-align: right;\">\n",
              "      <th></th>\n",
              "      <th>vidid</th>\n",
              "      <th>adview</th>\n",
              "      <th>views</th>\n",
              "      <th>likes</th>\n",
              "      <th>dislikes</th>\n",
              "      <th>comment</th>\n",
              "      <th>published</th>\n",
              "      <th>duration</th>\n",
              "      <th>category</th>\n",
              "    </tr>\n",
              "  </thead>\n",
              "  <tbody>\n",
              "    <tr>\n",
              "      <th>0</th>\n",
              "      <td>VID_18655</td>\n",
              "      <td>40</td>\n",
              "      <td>1031602</td>\n",
              "      <td>8523</td>\n",
              "      <td>363</td>\n",
              "      <td>1095</td>\n",
              "      <td>2016-09-14</td>\n",
              "      <td>PT7M37S</td>\n",
              "      <td>6</td>\n",
              "    </tr>\n",
              "    <tr>\n",
              "      <th>1</th>\n",
              "      <td>VID_14135</td>\n",
              "      <td>2</td>\n",
              "      <td>1707</td>\n",
              "      <td>56</td>\n",
              "      <td>2</td>\n",
              "      <td>6</td>\n",
              "      <td>2016-10-01</td>\n",
              "      <td>PT9M30S</td>\n",
              "      <td>4</td>\n",
              "    </tr>\n",
              "    <tr>\n",
              "      <th>2</th>\n",
              "      <td>VID_2187</td>\n",
              "      <td>1</td>\n",
              "      <td>2023</td>\n",
              "      <td>25</td>\n",
              "      <td>0</td>\n",
              "      <td>2</td>\n",
              "      <td>2016-07-02</td>\n",
              "      <td>PT2M16S</td>\n",
              "      <td>3</td>\n",
              "    </tr>\n",
              "    <tr>\n",
              "      <th>3</th>\n",
              "      <td>VID_23096</td>\n",
              "      <td>6</td>\n",
              "      <td>620860</td>\n",
              "      <td>777</td>\n",
              "      <td>161</td>\n",
              "      <td>153</td>\n",
              "      <td>2016-07-27</td>\n",
              "      <td>PT4M22S</td>\n",
              "      <td>8</td>\n",
              "    </tr>\n",
              "    <tr>\n",
              "      <th>4</th>\n",
              "      <td>VID_10175</td>\n",
              "      <td>1</td>\n",
              "      <td>666</td>\n",
              "      <td>1</td>\n",
              "      <td>0</td>\n",
              "      <td>0</td>\n",
              "      <td>2016-06-29</td>\n",
              "      <td>PT31S</td>\n",
              "      <td>4</td>\n",
              "    </tr>\n",
              "  </tbody>\n",
              "</table>\n",
              "</div>"
            ],
            "text/plain": [
              "       vidid  adview    views likes  ... comment   published duration category\n",
              "0  VID_18655      40  1031602  8523  ...    1095  2016-09-14  PT7M37S        6\n",
              "1  VID_14135       2     1707    56  ...       6  2016-10-01  PT9M30S        4\n",
              "2   VID_2187       1     2023    25  ...       2  2016-07-02  PT2M16S        3\n",
              "3  VID_23096       6   620860   777  ...     153  2016-07-27  PT4M22S        8\n",
              "4  VID_10175       1      666     1  ...       0  2016-06-29    PT31S        4\n",
              "\n",
              "[5 rows x 9 columns]"
            ]
          },
          "metadata": {
            "tags": []
          },
          "execution_count": 319
        }
      ]
    },
    {
      "cell_type": "markdown",
      "metadata": {
        "id": "QaQ5jXcjLFRQ"
      },
      "source": [
        "# 4. Transform attributes into numerical values and other necessary transformations\n",
        "\n",
        "Machine Learning models need data to be converted to numerical form at \n",
        "the end. We have\n",
        "categorical data and data in other formats which may want to convert. \n",
        "We will use label encoder and\n",
        "other date & time functions for that task. This part is quite open ended and also known as feature\n",
        "engineering. You can transform original features into new ones which \n",
        "might give better results.\n",
        "\n",
        "Convert categorical data using label encoder\n",
        "\n",
        "Convert into numerical data\n",
        "\n",
        "Feature selection\n",
        "\n"
      ]
    },
    {
      "cell_type": "code",
      "metadata": {
        "id": "ZrHl0gACMOGw",
        "outputId": "58f288f0-ce14-454a-85b0-bd8af36b7572",
        "colab": {
          "base_uri": "https://localhost:8080/",
          "height": 195
        }
      },
      "source": [
        "# Convert values to integers for views, likes, comments, dislikes and adview\n",
        "data_train[\"views\"] = pd.to_numeric(data_train[\"views\"])\n",
        "data_train[\"comment\"] = pd.to_numeric(data_train[\"comment\"])\n",
        "data_train[\"likes\"] = pd.to_numeric(data_train[\"likes\"])\n",
        "data_train[\"dislikes\"] = pd.to_numeric(data_train[\"dislikes\"])\n",
        "data_train[\"adview\"]=pd.to_numeric(data_train[\"adview\"])\n",
        "column_vidid=data_train['vidid']\n",
        "# Endoding features like Category, Duration, Vidid\n",
        "from sklearn.preprocessing import LabelEncoder\n",
        "data_train['duration']=LabelEncoder().fit_transform(data_train['duration'])\n",
        "data_train['vidid']=LabelEncoder().fit_transform(data_train['vidid'])\n",
        "data_train['published']=LabelEncoder().fit_transform(data_train['published'])\n",
        "data_train.head()\n"
      ],
      "execution_count": null,
      "outputs": [
        {
          "output_type": "execute_result",
          "data": {
            "text/html": [
              "<div>\n",
              "<style scoped>\n",
              "    .dataframe tbody tr th:only-of-type {\n",
              "        vertical-align: middle;\n",
              "    }\n",
              "\n",
              "    .dataframe tbody tr th {\n",
              "        vertical-align: top;\n",
              "    }\n",
              "\n",
              "    .dataframe thead th {\n",
              "        text-align: right;\n",
              "    }\n",
              "</style>\n",
              "<table border=\"1\" class=\"dataframe\">\n",
              "  <thead>\n",
              "    <tr style=\"text-align: right;\">\n",
              "      <th></th>\n",
              "      <th>vidid</th>\n",
              "      <th>adview</th>\n",
              "      <th>views</th>\n",
              "      <th>likes</th>\n",
              "      <th>dislikes</th>\n",
              "      <th>comment</th>\n",
              "      <th>published</th>\n",
              "      <th>duration</th>\n",
              "      <th>category</th>\n",
              "    </tr>\n",
              "  </thead>\n",
              "  <tbody>\n",
              "    <tr>\n",
              "      <th>0</th>\n",
              "      <td>5912</td>\n",
              "      <td>40</td>\n",
              "      <td>1031602</td>\n",
              "      <td>8523</td>\n",
              "      <td>363</td>\n",
              "      <td>1095</td>\n",
              "      <td>2168</td>\n",
              "      <td>2925</td>\n",
              "      <td>6</td>\n",
              "    </tr>\n",
              "    <tr>\n",
              "      <th>1</th>\n",
              "      <td>2741</td>\n",
              "      <td>2</td>\n",
              "      <td>1707</td>\n",
              "      <td>56</td>\n",
              "      <td>2</td>\n",
              "      <td>6</td>\n",
              "      <td>2185</td>\n",
              "      <td>3040</td>\n",
              "      <td>4</td>\n",
              "    </tr>\n",
              "    <tr>\n",
              "      <th>2</th>\n",
              "      <td>8138</td>\n",
              "      <td>1</td>\n",
              "      <td>2023</td>\n",
              "      <td>25</td>\n",
              "      <td>0</td>\n",
              "      <td>2</td>\n",
              "      <td>2094</td>\n",
              "      <td>1863</td>\n",
              "      <td>3</td>\n",
              "    </tr>\n",
              "    <tr>\n",
              "      <th>3</th>\n",
              "      <td>9004</td>\n",
              "      <td>6</td>\n",
              "      <td>620860</td>\n",
              "      <td>777</td>\n",
              "      <td>161</td>\n",
              "      <td>153</td>\n",
              "      <td>2119</td>\n",
              "      <td>2546</td>\n",
              "      <td>8</td>\n",
              "    </tr>\n",
              "    <tr>\n",
              "      <th>4</th>\n",
              "      <td>122</td>\n",
              "      <td>1</td>\n",
              "      <td>666</td>\n",
              "      <td>1</td>\n",
              "      <td>0</td>\n",
              "      <td>0</td>\n",
              "      <td>2091</td>\n",
              "      <td>1963</td>\n",
              "      <td>4</td>\n",
              "    </tr>\n",
              "  </tbody>\n",
              "</table>\n",
              "</div>"
            ],
            "text/plain": [
              "   vidid  adview    views  likes  ...  comment  published  duration  category\n",
              "0   5912      40  1031602   8523  ...     1095       2168      2925         6\n",
              "1   2741       2     1707     56  ...        6       2185      3040         4\n",
              "2   8138       1     2023     25  ...        2       2094      1863         3\n",
              "3   9004       6   620860    777  ...      153       2119      2546         8\n",
              "4    122       1      666      1  ...        0       2091      1963         4\n",
              "\n",
              "[5 rows x 9 columns]"
            ]
          },
          "metadata": {
            "tags": []
          },
          "execution_count": 320
        }
      ]
    },
    {
      "cell_type": "code",
      "metadata": {
        "id": "plaeBCcDJ-AN"
      },
      "source": [
        "# Convert Time_in_sec for duration\n",
        "import datetime\n",
        "import time"
      ],
      "execution_count": null,
      "outputs": []
    },
    {
      "cell_type": "code",
      "metadata": {
        "id": "R_w-TTMrJB__",
        "outputId": "423beb8d-1ef0-4512-d66f-400bb966afaa",
        "colab": {
          "base_uri": "https://localhost:8080/",
          "height": 195
        }
      },
      "source": [
        "def checki(x):\n",
        "  y = x[2:]\n",
        "  h = ''\n",
        "  m = ''\n",
        "  s = ''\n",
        "  mm = ''\n",
        "  P = ['H','M','S']\n",
        "  for i in y:\n",
        "    if i not in P:\n",
        "      mm+=i\n",
        "    else:\n",
        "      if(i==\"H\"):\n",
        "        h = mm\n",
        "        mm = ''\n",
        "      elif(i == \"M\"):\n",
        "        m = mm\n",
        "        mm = ''\n",
        "      else:\n",
        "        s = mm\n",
        "        mm = ''\n",
        "    if(h==''):\n",
        "      h = '00'\n",
        "    if(m == ''):\n",
        "      m = '00'\n",
        "    if(s==''):\n",
        "      s='00'\n",
        "    bp = h+':'+m+':'+s\n",
        "    return bp\n",
        "train=pd.read_csv(\"train.csv\")\n",
        "mp = pd.read_csv(path + \"train.csv\")[\"duration\"]\n",
        "time = mp.apply(checki)\n",
        "def func_sec(time_string):\n",
        "  h, m, s = time_string.split(':')\n",
        "  return int(h) * 3600 + int(m) * 60 + int(s)\n",
        "time1=time.apply(func_sec)\n",
        "data_train[\"duration\"]=time1\n",
        "data_train.head()"
      ],
      "execution_count": null,
      "outputs": [
        {
          "output_type": "execute_result",
          "data": {
            "text/html": [
              "<div>\n",
              "<style scoped>\n",
              "    .dataframe tbody tr th:only-of-type {\n",
              "        vertical-align: middle;\n",
              "    }\n",
              "\n",
              "    .dataframe tbody tr th {\n",
              "        vertical-align: top;\n",
              "    }\n",
              "\n",
              "    .dataframe thead th {\n",
              "        text-align: right;\n",
              "    }\n",
              "</style>\n",
              "<table border=\"1\" class=\"dataframe\">\n",
              "  <thead>\n",
              "    <tr style=\"text-align: right;\">\n",
              "      <th></th>\n",
              "      <th>vidid</th>\n",
              "      <th>adview</th>\n",
              "      <th>views</th>\n",
              "      <th>likes</th>\n",
              "      <th>dislikes</th>\n",
              "      <th>comment</th>\n",
              "      <th>published</th>\n",
              "      <th>duration</th>\n",
              "      <th>category</th>\n",
              "    </tr>\n",
              "  </thead>\n",
              "  <tbody>\n",
              "    <tr>\n",
              "      <th>0</th>\n",
              "      <td>5912</td>\n",
              "      <td>40</td>\n",
              "      <td>1031602</td>\n",
              "      <td>8523</td>\n",
              "      <td>363</td>\n",
              "      <td>1095</td>\n",
              "      <td>2168</td>\n",
              "      <td>0</td>\n",
              "      <td>6</td>\n",
              "    </tr>\n",
              "    <tr>\n",
              "      <th>1</th>\n",
              "      <td>2741</td>\n",
              "      <td>2</td>\n",
              "      <td>1707</td>\n",
              "      <td>56</td>\n",
              "      <td>2</td>\n",
              "      <td>6</td>\n",
              "      <td>2185</td>\n",
              "      <td>0</td>\n",
              "      <td>4</td>\n",
              "    </tr>\n",
              "    <tr>\n",
              "      <th>2</th>\n",
              "      <td>8138</td>\n",
              "      <td>1</td>\n",
              "      <td>2023</td>\n",
              "      <td>25</td>\n",
              "      <td>0</td>\n",
              "      <td>2</td>\n",
              "      <td>2094</td>\n",
              "      <td>0</td>\n",
              "      <td>3</td>\n",
              "    </tr>\n",
              "    <tr>\n",
              "      <th>3</th>\n",
              "      <td>9004</td>\n",
              "      <td>6</td>\n",
              "      <td>620860</td>\n",
              "      <td>777</td>\n",
              "      <td>161</td>\n",
              "      <td>153</td>\n",
              "      <td>2119</td>\n",
              "      <td>0</td>\n",
              "      <td>8</td>\n",
              "    </tr>\n",
              "    <tr>\n",
              "      <th>4</th>\n",
              "      <td>122</td>\n",
              "      <td>1</td>\n",
              "      <td>666</td>\n",
              "      <td>1</td>\n",
              "      <td>0</td>\n",
              "      <td>0</td>\n",
              "      <td>2091</td>\n",
              "      <td>0</td>\n",
              "      <td>4</td>\n",
              "    </tr>\n",
              "  </tbody>\n",
              "</table>\n",
              "</div>"
            ],
            "text/plain": [
              "   vidid  adview    views  likes  ...  comment  published  duration  category\n",
              "0   5912      40  1031602   8523  ...     1095       2168         0         6\n",
              "1   2741       2     1707     56  ...        6       2185         0         4\n",
              "2   8138       1     2023     25  ...        2       2094         0         3\n",
              "3   9004       6   620860    777  ...      153       2119         0         8\n",
              "4    122       1      666      1  ...        0       2091         0         4\n",
              "\n",
              "[5 rows x 9 columns]"
            ]
          },
          "metadata": {
            "tags": []
          },
          "execution_count": 322
        }
      ]
    },
    {
      "cell_type": "markdown",
      "metadata": {
        "id": "1264oFu_uvOx"
      },
      "source": [
        "# 5. Normalise your data and split the data into training, validation and test set in the appropriate ratio.\n",
        "\n",
        "We need to split the data into training and test data. We use training data to learn patterns in the\n",
        "data and then check if it generalises well on unseen data. The split percentage can be varied and\n",
        "is generally on the amount of data we have. For a relatively small dataset like this, the split\n",
        "percentage should be high 8020 rather than 991 with respect to train:test).\n",
        "Normalisation is done to ensure all the features all weighted appropriately in the training stage.\n",
        "Just because some features have high scale should not translate to having higher influence on\n",
        "the model. Normalisation can be done using Standard Scalar or MinMax Scalar among others. In\n",
        "this particular problem, MinMax Scalar has been used which basically transforms each variable in\n",
        "the range of 0 to 1.\n",
        "\n",
        "\n",
        "Split dataset in train and test as well as into inputs and outputs\n",
        "\n",
        "Normalise the dataset using scalars\n",
        "\n"
      ]
    },
    {
      "cell_type": "code",
      "metadata": {
        "id": "S7Ecamq7vUZ2",
        "outputId": "962badb5-227a-4b35-fc26-057908604e5d",
        "colab": {
          "base_uri": "https://localhost:8080/",
          "height": 195
        }
      },
      "source": [
        "# Split Data\n",
        "Y_train = pd.DataFrame(data = data_train.iloc[:, 1].values, columns = ['target'])\n",
        "data_train=data_train.drop([\"adview\"],axis=1)\n",
        "data_train=data_train.drop([\"vidid\"],axis=1)\n",
        "data_train.head()\n",
        "\n"
      ],
      "execution_count": null,
      "outputs": [
        {
          "output_type": "execute_result",
          "data": {
            "text/html": [
              "<div>\n",
              "<style scoped>\n",
              "    .dataframe tbody tr th:only-of-type {\n",
              "        vertical-align: middle;\n",
              "    }\n",
              "\n",
              "    .dataframe tbody tr th {\n",
              "        vertical-align: top;\n",
              "    }\n",
              "\n",
              "    .dataframe thead th {\n",
              "        text-align: right;\n",
              "    }\n",
              "</style>\n",
              "<table border=\"1\" class=\"dataframe\">\n",
              "  <thead>\n",
              "    <tr style=\"text-align: right;\">\n",
              "      <th></th>\n",
              "      <th>views</th>\n",
              "      <th>likes</th>\n",
              "      <th>dislikes</th>\n",
              "      <th>comment</th>\n",
              "      <th>published</th>\n",
              "      <th>duration</th>\n",
              "      <th>category</th>\n",
              "    </tr>\n",
              "  </thead>\n",
              "  <tbody>\n",
              "    <tr>\n",
              "      <th>0</th>\n",
              "      <td>1031602</td>\n",
              "      <td>8523</td>\n",
              "      <td>363</td>\n",
              "      <td>1095</td>\n",
              "      <td>2168</td>\n",
              "      <td>0</td>\n",
              "      <td>6</td>\n",
              "    </tr>\n",
              "    <tr>\n",
              "      <th>1</th>\n",
              "      <td>1707</td>\n",
              "      <td>56</td>\n",
              "      <td>2</td>\n",
              "      <td>6</td>\n",
              "      <td>2185</td>\n",
              "      <td>0</td>\n",
              "      <td>4</td>\n",
              "    </tr>\n",
              "    <tr>\n",
              "      <th>2</th>\n",
              "      <td>2023</td>\n",
              "      <td>25</td>\n",
              "      <td>0</td>\n",
              "      <td>2</td>\n",
              "      <td>2094</td>\n",
              "      <td>0</td>\n",
              "      <td>3</td>\n",
              "    </tr>\n",
              "    <tr>\n",
              "      <th>3</th>\n",
              "      <td>620860</td>\n",
              "      <td>777</td>\n",
              "      <td>161</td>\n",
              "      <td>153</td>\n",
              "      <td>2119</td>\n",
              "      <td>0</td>\n",
              "      <td>8</td>\n",
              "    </tr>\n",
              "    <tr>\n",
              "      <th>4</th>\n",
              "      <td>666</td>\n",
              "      <td>1</td>\n",
              "      <td>0</td>\n",
              "      <td>0</td>\n",
              "      <td>2091</td>\n",
              "      <td>0</td>\n",
              "      <td>4</td>\n",
              "    </tr>\n",
              "  </tbody>\n",
              "</table>\n",
              "</div>"
            ],
            "text/plain": [
              "     views  likes  dislikes  comment  published  duration  category\n",
              "0  1031602   8523       363     1095       2168         0         6\n",
              "1     1707     56         2        6       2185         0         4\n",
              "2     2023     25         0        2       2094         0         3\n",
              "3   620860    777       161      153       2119         0         8\n",
              "4      666      1         0        0       2091         0         4"
            ]
          },
          "metadata": {
            "tags": []
          },
          "execution_count": 323
        }
      ]
    },
    {
      "cell_type": "code",
      "metadata": {
        "id": "xQtr6VmeLUk4",
        "outputId": "52945d5a-32f7-459c-b2ea-71d37dcbfa96",
        "colab": {
          "base_uri": "https://localhost:8080/",
          "height": 34
        }
      },
      "source": [
        "from sklearn.model_selection import train_test_split\n",
        "X_train, X_test, y_train, y_test = train_test_split(data_train, Y_train, test_size=0.2, random_state=42)\n",
        "X_train.shape"
      ],
      "execution_count": null,
      "outputs": [
        {
          "output_type": "execute_result",
          "data": {
            "text/plain": [
              "(11708, 7)"
            ]
          },
          "metadata": {
            "tags": []
          },
          "execution_count": 324
        }
      ]
    },
    {
      "cell_type": "code",
      "metadata": {
        "id": "lHYm1gWWLWzH",
        "outputId": "f637edf9-2078-4d4c-c3d7-a6dd4553f5c1",
        "colab": {
          "base_uri": "https://localhost:8080/",
          "height": 34
        }
      },
      "source": [
        "# Normalise Data\n",
        "from sklearn.preprocessing import MinMaxScaler\n",
        "scaler = MinMaxScaler()\n",
        "X_train=scaler.fit_transform(X_train)\n",
        "X_test=scaler.fit_transform(X_test)\n",
        "\n",
        "X_train.mean()"
      ],
      "execution_count": null,
      "outputs": [
        {
          "output_type": "execute_result",
          "data": {
            "text/plain": [
              "0.17037138915499772"
            ]
          },
          "metadata": {
            "tags": []
          },
          "execution_count": 325
        }
      ]
    },
    {
      "cell_type": "markdown",
      "metadata": {
        "id": "9hlvXXvDv709"
      },
      "source": [
        "# 6. Use linear regression, support vector regressor, random forest and for training and get errors.\n",
        "\n",
        "\n",
        "Different machine learning models can be used for training out of which we can choose whichever gives the best\n",
        "result. We will use the scikitlearn libraries for importing these models and the training them use the fit method and\n",
        "providing necessary labelled data (input and output). We are optimising for mean square error here because it's a\n",
        "regression problem after all. The metrics that we can use for us to compare different model can be mean square\n",
        "error and mean absolute error.\n",
        "\n",
        "Import scikitlearn library\n",
        "\n",
        "Import the model and define\n",
        "\n",
        "Use .fit method with data as arguments to train\n",
        "\n",
        "Calculate errors\n",
        "\n"
      ]
    },
    {
      "cell_type": "code",
      "metadata": {
        "id": "uEqLhYaVwO2t"
      },
      "source": [
        "# Evaluation Metrics\n",
        "\n",
        "\n",
        "# def print_error(X_test, y_test, model_name):\n",
        "#   prediction = model_name.predict(X_test)\n",
        "#   print('Mean Absolute Error:', metrics.mean_absolute_error(y_test, prediction))\n",
        "#   print('Mean Squared Error:', metrics.mean_squared_error(y_test, prediction))\n",
        "#   print('Root Mean Squared Error:', np.sqrt(metrics.mean_squared_error(y_test, prediction)))\n",
        "  \n",
        "#   print('prediction:',prediction)\n",
        "\n"
      ],
      "execution_count": 349,
      "outputs": []
    },
    {
      "cell_type": "markdown",
      "metadata": {
        "id": "ITb-KseCKb_g"
      },
      "source": [
        "**Linear Regression**"
      ]
    },
    {
      "cell_type": "code",
      "metadata": {
        "id": "xg_VzD4oKaTE",
        "outputId": "e48474ce-ea2a-41f8-f27f-6f509ee57427",
        "colab": {
          "base_uri": "https://localhost:8080/",
          "height": 34
        }
      },
      "source": [
        "# Linear Regression\n",
        "from sklearn import linear_model\n",
        "linear_regression = linear_model.LinearRegression()\n",
        "linear_regression.fit(X_train, y_train)\n",
        "\n"
      ],
      "execution_count": 350,
      "outputs": [
        {
          "output_type": "execute_result",
          "data": {
            "text/plain": [
              "LinearRegression(copy_X=True, fit_intercept=True, n_jobs=None, normalize=False)"
            ]
          },
          "metadata": {
            "tags": []
          },
          "execution_count": 350
        }
      ]
    },
    {
      "cell_type": "code",
      "metadata": {
        "id": "SZ2o2OT5Qsnz",
        "outputId": "6cde2891-94ed-4e83-daff-12299821a420",
        "colab": {
          "base_uri": "https://localhost:8080/",
          "height": 185
        }
      },
      "source": [
        "from sklearn import metrics\n",
        "prediction = linear_regression.predict(X_test)\n",
        "mae=metrics.mean_absolute_error(y_test, prediction)\n",
        "mse=metrics.mean_squared_error(y_test, prediction)\n",
        "rmse=np.sqrt(metrics.mean_squared_error(y_test, prediction))\n",
        "\n",
        "print('Mean Absolute Error:',mae)\n",
        "print('Mean Squared Error:',mse)\n",
        "print('Root Mean Squared Error:',rmse)\n",
        "\n",
        "print('prediction:',prediction)\n"
      ],
      "execution_count": 351,
      "outputs": [
        {
          "output_type": "stream",
          "text": [
            "Mean Absolute Error: 3719.581563422566\n",
            "Mean Squared Error: 836136079.6417663\n",
            "Root Mean Squared Error: 28916.017700260287\n",
            "prediction: [[-1111.07405884]\n",
            " [ 2508.16109712]\n",
            " [  503.10061849]\n",
            " ...\n",
            " [-1023.21088414]\n",
            " [ 2841.67924511]\n",
            " [-1485.46235634]]\n"
          ],
          "name": "stdout"
        }
      ]
    },
    {
      "cell_type": "code",
      "metadata": {
        "id": "H27sbSWUR7GI",
        "outputId": "c0531a61-a8f7-46c7-ed2e-231a5f80d8cd",
        "colab": {
          "base_uri": "https://localhost:8080/",
          "height": 84
        }
      },
      "source": [
        "eval=[mae,mse,rmse]\n",
        "df=pd.Series(eval,index=['mean_absolute_error','mean_squared_error','root_mean_squared_error'],name='Evaluation Results')\n",
        "df"
      ],
      "execution_count": 352,
      "outputs": [
        {
          "output_type": "execute_result",
          "data": {
            "text/plain": [
              "mean_absolute_error        3.719582e+03\n",
              "mean_squared_error         8.361361e+08\n",
              "root_mean_squared_error    2.891602e+04\n",
              "Name: Evaluation Results, dtype: float64"
            ]
          },
          "metadata": {
            "tags": []
          },
          "execution_count": 352
        }
      ]
    },
    {
      "cell_type": "markdown",
      "metadata": {
        "id": "AA8qu_aLKiSF"
      },
      "source": [
        "**Support Vector Regressor**"
      ]
    },
    {
      "cell_type": "code",
      "metadata": {
        "id": "FrRh2CRUKQ-b",
        "outputId": "85086901-fe1d-4005-fc91-be57eadc27c9",
        "colab": {
          "base_uri": "https://localhost:8080/",
          "height": 104
        }
      },
      "source": [
        "# Support Vector Regressor\n",
        "from sklearn.svm import SVR\n",
        "supportvector_regressor = SVR()\n",
        "supportvector_regressor.fit(X_train,y_train)\n"
      ],
      "execution_count": 353,
      "outputs": [
        {
          "output_type": "stream",
          "text": [
            "/usr/local/lib/python3.6/dist-packages/sklearn/utils/validation.py:760: DataConversionWarning: A column-vector y was passed when a 1d array was expected. Please change the shape of y to (n_samples, ), for example using ravel().\n",
            "  y = column_or_1d(y, warn=True)\n"
          ],
          "name": "stderr"
        },
        {
          "output_type": "execute_result",
          "data": {
            "text/plain": [
              "SVR(C=1.0, cache_size=200, coef0=0.0, degree=3, epsilon=0.1, gamma='scale',\n",
              "    kernel='rbf', max_iter=-1, shrinking=True, tol=0.001, verbose=False)"
            ]
          },
          "metadata": {
            "tags": []
          },
          "execution_count": 353
        }
      ]
    },
    {
      "cell_type": "code",
      "metadata": {
        "id": "6c2fZMTOTNBn",
        "outputId": "e08d3b73-a7fb-4310-fd58-a1f1af7f408a",
        "colab": {
          "base_uri": "https://localhost:8080/",
          "height": 84
        }
      },
      "source": [
        "from sklearn import metrics\n",
        "prediction = supportvector_regressor.predict(X_test)\n",
        "mae1=metrics.mean_absolute_error(y_test, prediction)\n",
        "mse1=metrics.mean_squared_error(y_test, prediction)\n",
        "rmse1=np.sqrt(metrics.mean_squared_error(y_test, prediction))\n",
        "\n",
        "print('Mean Absolute Error:',mae1)\n",
        "print('Mean Squared Error:',mse1)\n",
        "print('Root Mean Squared Error:',rmse1)\n",
        "\n",
        "print('prediction:',prediction)\n"
      ],
      "execution_count": 354,
      "outputs": [
        {
          "output_type": "stream",
          "text": [
            "Mean Absolute Error: 1696.9534032655565\n",
            "Mean Squared Error: 833686060.8033673\n",
            "Root Mean Squared Error: 28873.62223212334\n",
            "prediction: [2.84062063 1.45286795 1.80996297 ... 2.36849372 1.70468909 2.38268219]\n"
          ],
          "name": "stdout"
        }
      ]
    },
    {
      "cell_type": "code",
      "metadata": {
        "id": "OWXvi_RJTWJC",
        "outputId": "86053f31-7b84-412b-c19c-32e20717d61e",
        "colab": {
          "base_uri": "https://localhost:8080/",
          "height": 84
        }
      },
      "source": [
        "eval=[mae1,mse1,rmse1]\n",
        "df=pd.Series(eval,index=['mean_absolute_error','mean_squared_error','root_mean_squared_error'],name='Evaluation Results')\n",
        "df"
      ],
      "execution_count": 355,
      "outputs": [
        {
          "output_type": "execute_result",
          "data": {
            "text/plain": [
              "mean_absolute_error        1.696953e+03\n",
              "mean_squared_error         8.336861e+08\n",
              "root_mean_squared_error    2.887362e+04\n",
              "Name: Evaluation Results, dtype: float64"
            ]
          },
          "metadata": {
            "tags": []
          },
          "execution_count": 355
        }
      ]
    },
    {
      "cell_type": "markdown",
      "metadata": {
        "id": "d9XEQAtkxc9l"
      },
      "source": [
        "# 7. Use Decision Tree Regressor and Random Forest Regressors\n",
        "\n",
        "Another class of machine learning algorithms include decision trees and random forests. We can import these\n",
        "models from sklearn.tree and then again use the .fit function. We need to give appropriate hyper parameters for\n",
        "them. These are something we can experiment with to achieve better results.\n",
        "Import models\n",
        "\n",
        "Assign hyperparameters for random forest\n",
        "\n",
        "Train the models\n",
        "\n",
        "Calculate error\n"
      ]
    },
    {
      "cell_type": "markdown",
      "metadata": {
        "id": "njZn9SW8NuDW"
      },
      "source": [
        "**Decision Tree Regressor**"
      ]
    },
    {
      "cell_type": "code",
      "metadata": {
        "id": "pkipjO1extrL",
        "outputId": "20c52550-72e9-43c7-e3b5-d9b5453fce4e",
        "colab": {
          "base_uri": "https://localhost:8080/",
          "height": 84
        }
      },
      "source": [
        "# Decision Tree Regressor\n",
        "from sklearn.tree import DecisionTreeRegressor\n",
        "decision_tree = DecisionTreeRegressor()\n",
        "decision_tree.fit(X_train, y_train)\n",
        "print_error(X_test,y_test, decision_tree)\n"
      ],
      "execution_count": null,
      "outputs": [
        {
          "output_type": "stream",
          "text": [
            "Mean Absolute Error: 2190.948087431694\n",
            "Mean Squared Error: 471021186.14275956\n",
            "Root Mean Squared Error: 21703.022511686235\n",
            "prediction: [24.  1. 13. ...  2.  1. 77.]\n"
          ],
          "name": "stdout"
        }
      ]
    },
    {
      "cell_type": "code",
      "metadata": {
        "id": "-aESqc2kUCnA",
        "outputId": "9b4bdec4-62f0-49b8-c78d-c6b32dd088bd",
        "colab": {
          "base_uri": "https://localhost:8080/",
          "height": 84
        }
      },
      "source": [
        "from sklearn import metrics\n",
        "prediction = decision_tree.predict(X_test)\n",
        "mae2=metrics.mean_absolute_error(y_test, prediction)\n",
        "mse2=metrics.mean_squared_error(y_test, prediction)\n",
        "rmse2=np.sqrt(metrics.mean_squared_error(y_test, prediction))\n",
        "\n",
        "print('Mean Absolute Error:',mae2)\n",
        "print('Mean Squared Error:',mse2)\n",
        "print('Root Mean Squared Error:',rmse2)\n",
        "\n",
        "print('prediction:',prediction)"
      ],
      "execution_count": null,
      "outputs": [
        {
          "output_type": "stream",
          "text": [
            "Mean Absolute Error: 2190.948087431694\n",
            "Mean Squared Error: 471021186.14275956\n",
            "Root Mean Squared Error: 21703.022511686235\n",
            "prediction: [24.  1. 13. ...  2.  1. 77.]\n"
          ],
          "name": "stdout"
        }
      ]
    },
    {
      "cell_type": "code",
      "metadata": {
        "id": "CUmhmQEFTcd6",
        "outputId": "03007c6c-b99e-4fcf-ce01-dac1262b40ef",
        "colab": {
          "base_uri": "https://localhost:8080/",
          "height": 84
        }
      },
      "source": [
        "eval=[mae2,mse2,rmse2]\n",
        "df=pd.Series(eval,index=['mean_absolute_error','mean_squared_error','root_mean_squared_error'],name='Evaluation Results')\n",
        "df"
      ],
      "execution_count": null,
      "outputs": [
        {
          "output_type": "execute_result",
          "data": {
            "text/plain": [
              "mean_absolute_error        2.190948e+03\n",
              "mean_squared_error         4.710212e+08\n",
              "root_mean_squared_error    2.170302e+04\n",
              "Name: Evaluation Results, dtype: float64"
            ]
          },
          "metadata": {
            "tags": []
          },
          "execution_count": 335
        }
      ]
    },
    {
      "cell_type": "markdown",
      "metadata": {
        "id": "62fMnxI7N4GG"
      },
      "source": [
        "**Random Forest Regressor**"
      ]
    },
    {
      "cell_type": "code",
      "metadata": {
        "id": "xME9GmPHNxAg",
        "outputId": "8b3e4333-552f-4940-e48d-3321d6d14919",
        "colab": {
          "base_uri": "https://localhost:8080/",
          "height": 188
        }
      },
      "source": [
        "# Random Forest Regressor\n",
        "from sklearn.ensemble import RandomForestRegressor\n",
        "n_estimators = 200\n",
        "max_depth = 25\n",
        "min_samples_split=15\n",
        "min_samples_leaf=2\n",
        "random_forest = RandomForestRegressor(n_estimators = n_estimators, max_depth = max_depth, min_samples_split=min_samples_split)\n",
        "random_forest.fit(X_train,y_train)\n"
      ],
      "execution_count": null,
      "outputs": [
        {
          "output_type": "stream",
          "text": [
            "/usr/local/lib/python3.6/dist-packages/ipykernel_launcher.py:8: DataConversionWarning: A column-vector y was passed when a 1d array was expected. Please change the shape of y to (n_samples,), for example using ravel().\n",
            "  \n"
          ],
          "name": "stderr"
        },
        {
          "output_type": "execute_result",
          "data": {
            "text/plain": [
              "RandomForestRegressor(bootstrap=True, ccp_alpha=0.0, criterion='mse',\n",
              "                      max_depth=25, max_features='auto', max_leaf_nodes=None,\n",
              "                      max_samples=None, min_impurity_decrease=0.0,\n",
              "                      min_impurity_split=None, min_samples_leaf=1,\n",
              "                      min_samples_split=15, min_weight_fraction_leaf=0.0,\n",
              "                      n_estimators=200, n_jobs=None, oob_score=False,\n",
              "                      random_state=None, verbose=0, warm_start=False)"
            ]
          },
          "metadata": {
            "tags": []
          },
          "execution_count": 336
        }
      ]
    },
    {
      "cell_type": "code",
      "metadata": {
        "id": "voC4ErZLUOuK",
        "outputId": "08ec23ec-c2eb-4b15-b3cc-9f3dbec49e60",
        "colab": {
          "base_uri": "https://localhost:8080/",
          "height": 101
        }
      },
      "source": [
        "from sklearn import metrics\n",
        "prediction = random_forest.predict(X_test)\n",
        "mae3=metrics.mean_absolute_error(y_test, prediction)\n",
        "mse3=metrics.mean_squared_error(y_test, prediction)\n",
        "rmse3=np.sqrt(metrics.mean_squared_error(y_test, prediction))\n",
        "\n",
        "print('Mean Absolute Error:',mae3)\n",
        "print('Mean Squared Error:',mse3)\n",
        "print('Root Mean Squared Error:',rmse3)\n",
        "\n",
        "print('prediction:',prediction)"
      ],
      "execution_count": null,
      "outputs": [
        {
          "output_type": "stream",
          "text": [
            "Mean Absolute Error: 3288.440229670318\n",
            "Mean Squared Error: 443157517.40286237\n",
            "Root Mean Squared Error: 21051.30678610861\n",
            "prediction: [23.37058625  8.43719532 19.2963358  ...  4.54817926 50.56043171\n",
            " 11.62728614]\n"
          ],
          "name": "stdout"
        }
      ]
    },
    {
      "cell_type": "code",
      "metadata": {
        "id": "KHZJGixoTgwU",
        "outputId": "29093194-e689-46cc-f56b-8ff317cba420",
        "colab": {
          "base_uri": "https://localhost:8080/",
          "height": 84
        }
      },
      "source": [
        "eval=[mae3,mse3,rmse3]\n",
        "df=pd.Series(eval,index=['mean_absolute_error','mean_squared_error','root_mean_squared_error'],name='Evaluation Results')\n",
        "df"
      ],
      "execution_count": null,
      "outputs": [
        {
          "output_type": "execute_result",
          "data": {
            "text/plain": [
              "mean_absolute_error        3.288440e+03\n",
              "mean_squared_error         4.431575e+08\n",
              "root_mean_squared_error    2.105131e+04\n",
              "Name: Evaluation Results, dtype: float64"
            ]
          },
          "metadata": {
            "tags": []
          },
          "execution_count": 338
        }
      ]
    },
    {
      "cell_type": "markdown",
      "metadata": {
        "id": "Qxt9_RP1x8OL"
      },
      "source": [
        "# 8. Build an artificial neural network and train it with different layers and hyperparameters. Experiment a little. Use keras.\n",
        "\n",
        "At the end we can play around with neural networks using the keras library\n",
        "which is quite similar to the scikit learn library. Here we can define the\n",
        "model architecture (layers, number of neurons and activation functions),\n",
        "optimisation algorithm (like gradient descent or adam), cost function (mean\n",
        "square error) and give in the dataset. Then the model trains for different\n",
        "epochs (going through dataset once means one epoch) to result in an\n",
        "improved model. We may need to perform hyperparameter tuning (i.e.\n",
        "selecting the best hyperparamters like number of neurons or activation\n",
        "function to yield minimum error).\n",
        "We need to accept the fact that in some cases neural network may not\n",
        "perform better than other machine learning models.\n",
        "Import keras\n",
        "\n",
        "Define model architecture\n",
        "\n",
        "Define optimisation algorithm and cost function\n",
        "\n",
        "Train the neural network\n",
        "\n",
        "Calculate errors"
      ]
    },
    {
      "cell_type": "code",
      "metadata": {
        "id": "hof_WSwryYyB",
        "outputId": "e8cd2e92-f070-40a3-d02e-b4a7c4b164f4",
        "colab": {
          "base_uri": "https://localhost:8080/",
          "height": 1000
        }
      },
      "source": [
        "# Artificial Neural Network\n",
        "import keras\n",
        "from keras.layers import Dense\n",
        "ann = keras.models.Sequential([\n",
        "Dense(6, activation=\"relu\",\n",
        "input_shape=X_train.shape[1:]),\n",
        "Dense(6,activation=\"relu\"),\n",
        "Dense(1)\n",
        "])\n",
        "optimizer=keras.optimizers.Adam()\n",
        "loss=keras.losses.mean_squared_error\n",
        "ann.compile(optimizer=optimizer,loss=loss,metrics=[\"mean_squared_error\"])\n",
        "history=ann.fit(X_train,y_train,epochs=100)\n",
        "ann.summary()\n"
      ],
      "execution_count": null,
      "outputs": [
        {
          "output_type": "stream",
          "text": [
            "Epoch 1/100\n",
            "366/366 [==============================] - 0s 877us/step - loss: 767402688.0000 - mean_squared_error: 767402688.0000\n",
            "Epoch 2/100\n",
            "366/366 [==============================] - 0s 853us/step - loss: 767391616.0000 - mean_squared_error: 767391616.0000\n",
            "Epoch 3/100\n",
            "366/366 [==============================] - 0s 839us/step - loss: 767372352.0000 - mean_squared_error: 767372352.0000\n",
            "Epoch 4/100\n",
            "366/366 [==============================] - 0s 878us/step - loss: 767329600.0000 - mean_squared_error: 767329600.0000\n",
            "Epoch 5/100\n",
            "366/366 [==============================] - 0s 826us/step - loss: 767254848.0000 - mean_squared_error: 767254848.0000\n",
            "Epoch 6/100\n",
            "366/366 [==============================] - 0s 815us/step - loss: 767146432.0000 - mean_squared_error: 767146432.0000\n",
            "Epoch 7/100\n",
            "366/366 [==============================] - 0s 852us/step - loss: 767002624.0000 - mean_squared_error: 767002624.0000\n",
            "Epoch 8/100\n",
            "366/366 [==============================] - 0s 849us/step - loss: 766843456.0000 - mean_squared_error: 766843456.0000\n",
            "Epoch 9/100\n",
            "366/366 [==============================] - 0s 844us/step - loss: 766659776.0000 - mean_squared_error: 766659776.0000\n",
            "Epoch 10/100\n",
            "366/366 [==============================] - 0s 844us/step - loss: 766454784.0000 - mean_squared_error: 766454784.0000\n",
            "Epoch 11/100\n",
            "366/366 [==============================] - 0s 845us/step - loss: 766250880.0000 - mean_squared_error: 766250880.0000\n",
            "Epoch 12/100\n",
            "366/366 [==============================] - 0s 812us/step - loss: 766042112.0000 - mean_squared_error: 766042112.0000\n",
            "Epoch 13/100\n",
            "366/366 [==============================] - 0s 874us/step - loss: 765823680.0000 - mean_squared_error: 765823680.0000\n",
            "Epoch 14/100\n",
            "366/366 [==============================] - 0s 843us/step - loss: 765622784.0000 - mean_squared_error: 765622784.0000\n",
            "Epoch 15/100\n",
            "366/366 [==============================] - 0s 866us/step - loss: 765428480.0000 - mean_squared_error: 765428480.0000\n",
            "Epoch 16/100\n",
            "366/366 [==============================] - 0s 823us/step - loss: 765248768.0000 - mean_squared_error: 765248768.0000\n",
            "Epoch 17/100\n",
            "366/366 [==============================] - 0s 822us/step - loss: 765078976.0000 - mean_squared_error: 765078976.0000\n",
            "Epoch 18/100\n",
            "366/366 [==============================] - 0s 845us/step - loss: 764922240.0000 - mean_squared_error: 764922240.0000\n",
            "Epoch 19/100\n",
            "366/366 [==============================] - 0s 868us/step - loss: 764786560.0000 - mean_squared_error: 764786560.0000\n",
            "Epoch 20/100\n",
            "366/366 [==============================] - 0s 843us/step - loss: 764664832.0000 - mean_squared_error: 764664832.0000\n",
            "Epoch 21/100\n",
            "366/366 [==============================] - 0s 857us/step - loss: 764561664.0000 - mean_squared_error: 764561664.0000\n",
            "Epoch 22/100\n",
            "366/366 [==============================] - 0s 940us/step - loss: 764466624.0000 - mean_squared_error: 764466624.0000\n",
            "Epoch 23/100\n",
            "366/366 [==============================] - 0s 892us/step - loss: 764382336.0000 - mean_squared_error: 764382336.0000\n",
            "Epoch 24/100\n",
            "366/366 [==============================] - 0s 1ms/step - loss: 764313024.0000 - mean_squared_error: 764313024.0000\n",
            "Epoch 25/100\n",
            "366/366 [==============================] - 0s 950us/step - loss: 764251264.0000 - mean_squared_error: 764251264.0000\n",
            "Epoch 26/100\n",
            "366/366 [==============================] - 0s 859us/step - loss: 764195712.0000 - mean_squared_error: 764195712.0000\n",
            "Epoch 27/100\n",
            "366/366 [==============================] - 0s 846us/step - loss: 764148928.0000 - mean_squared_error: 764148928.0000\n",
            "Epoch 28/100\n",
            "366/366 [==============================] - 0s 817us/step - loss: 764111680.0000 - mean_squared_error: 764111680.0000\n",
            "Epoch 29/100\n",
            "366/366 [==============================] - 0s 857us/step - loss: 764075456.0000 - mean_squared_error: 764075456.0000\n",
            "Epoch 30/100\n",
            "366/366 [==============================] - 0s 944us/step - loss: 764046784.0000 - mean_squared_error: 764046784.0000\n",
            "Epoch 31/100\n",
            "366/366 [==============================] - 0s 848us/step - loss: 764022336.0000 - mean_squared_error: 764022336.0000\n",
            "Epoch 32/100\n",
            "366/366 [==============================] - 0s 891us/step - loss: 764000576.0000 - mean_squared_error: 764000576.0000\n",
            "Epoch 33/100\n",
            "366/366 [==============================] - 0s 908us/step - loss: 763982208.0000 - mean_squared_error: 763982208.0000\n",
            "Epoch 34/100\n",
            "366/366 [==============================] - 0s 860us/step - loss: 763966528.0000 - mean_squared_error: 763966528.0000\n",
            "Epoch 35/100\n",
            "366/366 [==============================] - 0s 868us/step - loss: 763951040.0000 - mean_squared_error: 763951040.0000\n",
            "Epoch 36/100\n",
            "366/366 [==============================] - 0s 921us/step - loss: 763938368.0000 - mean_squared_error: 763938368.0000\n",
            "Epoch 37/100\n",
            "366/366 [==============================] - 0s 870us/step - loss: 763926592.0000 - mean_squared_error: 763926592.0000\n",
            "Epoch 38/100\n",
            "366/366 [==============================] - 0s 878us/step - loss: 763917632.0000 - mean_squared_error: 763917632.0000\n",
            "Epoch 39/100\n",
            "366/366 [==============================] - 0s 894us/step - loss: 763907072.0000 - mean_squared_error: 763907072.0000\n",
            "Epoch 40/100\n",
            "366/366 [==============================] - 0s 834us/step - loss: 763900224.0000 - mean_squared_error: 763900224.0000\n",
            "Epoch 41/100\n",
            "366/366 [==============================] - 0s 865us/step - loss: 763889152.0000 - mean_squared_error: 763889152.0000\n",
            "Epoch 42/100\n",
            "366/366 [==============================] - 0s 823us/step - loss: 763886080.0000 - mean_squared_error: 763886080.0000\n",
            "Epoch 43/100\n",
            "366/366 [==============================] - 0s 862us/step - loss: 763880064.0000 - mean_squared_error: 763880064.0000\n",
            "Epoch 44/100\n",
            "366/366 [==============================] - 0s 865us/step - loss: 763869696.0000 - mean_squared_error: 763869696.0000\n",
            "Epoch 45/100\n",
            "366/366 [==============================] - 0s 815us/step - loss: 763863872.0000 - mean_squared_error: 763863872.0000\n",
            "Epoch 46/100\n",
            "366/366 [==============================] - 0s 862us/step - loss: 763857728.0000 - mean_squared_error: 763857728.0000\n",
            "Epoch 47/100\n",
            "366/366 [==============================] - 0s 818us/step - loss: 763853120.0000 - mean_squared_error: 763853120.0000\n",
            "Epoch 48/100\n",
            "366/366 [==============================] - 0s 849us/step - loss: 763846976.0000 - mean_squared_error: 763846976.0000\n",
            "Epoch 49/100\n",
            "366/366 [==============================] - 0s 887us/step - loss: 763840896.0000 - mean_squared_error: 763840896.0000\n",
            "Epoch 50/100\n",
            "366/366 [==============================] - 0s 884us/step - loss: 763833728.0000 - mean_squared_error: 763833728.0000\n",
            "Epoch 51/100\n",
            "366/366 [==============================] - 0s 858us/step - loss: 763829824.0000 - mean_squared_error: 763829824.0000\n",
            "Epoch 52/100\n",
            "366/366 [==============================] - 0s 859us/step - loss: 763824128.0000 - mean_squared_error: 763824128.0000\n",
            "Epoch 53/100\n",
            "366/366 [==============================] - 0s 894us/step - loss: 763821184.0000 - mean_squared_error: 763821184.0000\n",
            "Epoch 54/100\n",
            "366/366 [==============================] - 0s 917us/step - loss: 763817152.0000 - mean_squared_error: 763817152.0000\n",
            "Epoch 55/100\n",
            "366/366 [==============================] - 0s 886us/step - loss: 763809088.0000 - mean_squared_error: 763809088.0000\n",
            "Epoch 56/100\n",
            "366/366 [==============================] - 0s 846us/step - loss: 763804672.0000 - mean_squared_error: 763804672.0000\n",
            "Epoch 57/100\n",
            "366/366 [==============================] - 0s 865us/step - loss: 763798848.0000 - mean_squared_error: 763798848.0000\n",
            "Epoch 58/100\n",
            "366/366 [==============================] - 0s 937us/step - loss: 763793152.0000 - mean_squared_error: 763793152.0000\n",
            "Epoch 59/100\n",
            "366/366 [==============================] - 0s 986us/step - loss: 763789888.0000 - mean_squared_error: 763789888.0000\n",
            "Epoch 60/100\n",
            "366/366 [==============================] - 0s 873us/step - loss: 763782656.0000 - mean_squared_error: 763782656.0000\n",
            "Epoch 61/100\n",
            "366/366 [==============================] - 0s 938us/step - loss: 763779712.0000 - mean_squared_error: 763779712.0000\n",
            "Epoch 62/100\n",
            "366/366 [==============================] - 0s 829us/step - loss: 763774656.0000 - mean_squared_error: 763774656.0000\n",
            "Epoch 63/100\n",
            "366/366 [==============================] - 0s 903us/step - loss: 763771712.0000 - mean_squared_error: 763771712.0000\n",
            "Epoch 64/100\n",
            "366/366 [==============================] - 0s 922us/step - loss: 763763328.0000 - mean_squared_error: 763763328.0000\n",
            "Epoch 65/100\n",
            "366/366 [==============================] - 0s 888us/step - loss: 763759744.0000 - mean_squared_error: 763759744.0000\n",
            "Epoch 66/100\n",
            "366/366 [==============================] - 0s 831us/step - loss: 763753792.0000 - mean_squared_error: 763753792.0000\n",
            "Epoch 67/100\n",
            "366/366 [==============================] - 0s 891us/step - loss: 763748288.0000 - mean_squared_error: 763748288.0000\n",
            "Epoch 68/100\n",
            "366/366 [==============================] - 0s 888us/step - loss: 763747392.0000 - mean_squared_error: 763747392.0000\n",
            "Epoch 69/100\n",
            "366/366 [==============================] - 0s 865us/step - loss: 763737408.0000 - mean_squared_error: 763737408.0000\n",
            "Epoch 70/100\n",
            "366/366 [==============================] - 0s 873us/step - loss: 763734272.0000 - mean_squared_error: 763734272.0000\n",
            "Epoch 71/100\n",
            "366/366 [==============================] - 0s 918us/step - loss: 763730176.0000 - mean_squared_error: 763730176.0000\n",
            "Epoch 72/100\n",
            "366/366 [==============================] - 0s 882us/step - loss: 763724160.0000 - mean_squared_error: 763724160.0000\n",
            "Epoch 73/100\n",
            "366/366 [==============================] - 0s 844us/step - loss: 763717888.0000 - mean_squared_error: 763717888.0000\n",
            "Epoch 74/100\n",
            "366/366 [==============================] - 0s 887us/step - loss: 763715200.0000 - mean_squared_error: 763715200.0000\n",
            "Epoch 75/100\n",
            "366/366 [==============================] - 0s 874us/step - loss: 763708736.0000 - mean_squared_error: 763708736.0000\n",
            "Epoch 76/100\n",
            "366/366 [==============================] - 0s 877us/step - loss: 763703936.0000 - mean_squared_error: 763703936.0000\n",
            "Epoch 77/100\n",
            "366/366 [==============================] - 0s 989us/step - loss: 763701888.0000 - mean_squared_error: 763701888.0000\n",
            "Epoch 78/100\n",
            "366/366 [==============================] - 0s 870us/step - loss: 763692736.0000 - mean_squared_error: 763692736.0000\n",
            "Epoch 79/100\n",
            "366/366 [==============================] - 0s 856us/step - loss: 763688192.0000 - mean_squared_error: 763688192.0000\n",
            "Epoch 80/100\n",
            "366/366 [==============================] - 0s 871us/step - loss: 763685312.0000 - mean_squared_error: 763685312.0000\n",
            "Epoch 81/100\n",
            "366/366 [==============================] - 0s 886us/step - loss: 763678656.0000 - mean_squared_error: 763678656.0000\n",
            "Epoch 82/100\n",
            "366/366 [==============================] - 0s 928us/step - loss: 763678336.0000 - mean_squared_error: 763678336.0000\n",
            "Epoch 83/100\n",
            "366/366 [==============================] - 0s 911us/step - loss: 763667328.0000 - mean_squared_error: 763667328.0000\n",
            "Epoch 84/100\n",
            "366/366 [==============================] - 0s 867us/step - loss: 763664000.0000 - mean_squared_error: 763664000.0000\n",
            "Epoch 85/100\n",
            "366/366 [==============================] - 0s 1ms/step - loss: 763657920.0000 - mean_squared_error: 763657920.0000\n",
            "Epoch 86/100\n",
            "366/366 [==============================] - 0s 1ms/step - loss: 763654464.0000 - mean_squared_error: 763654464.0000\n",
            "Epoch 87/100\n",
            "366/366 [==============================] - 0s 868us/step - loss: 763649024.0000 - mean_squared_error: 763649024.0000\n",
            "Epoch 88/100\n",
            "366/366 [==============================] - 0s 861us/step - loss: 763643264.0000 - mean_squared_error: 763643264.0000\n",
            "Epoch 89/100\n",
            "366/366 [==============================] - 0s 884us/step - loss: 763638528.0000 - mean_squared_error: 763638528.0000\n",
            "Epoch 90/100\n",
            "366/366 [==============================] - 0s 917us/step - loss: 763631744.0000 - mean_squared_error: 763631744.0000\n",
            "Epoch 91/100\n",
            "366/366 [==============================] - 0s 855us/step - loss: 763626560.0000 - mean_squared_error: 763626560.0000\n",
            "Epoch 92/100\n",
            "366/366 [==============================] - 0s 906us/step - loss: 763623488.0000 - mean_squared_error: 763623488.0000\n",
            "Epoch 93/100\n",
            "366/366 [==============================] - 0s 864us/step - loss: 763615552.0000 - mean_squared_error: 763615552.0000\n",
            "Epoch 94/100\n",
            "366/366 [==============================] - 0s 892us/step - loss: 763611136.0000 - mean_squared_error: 763611136.0000\n",
            "Epoch 95/100\n",
            "366/366 [==============================] - 0s 923us/step - loss: 763605760.0000 - mean_squared_error: 763605760.0000\n",
            "Epoch 96/100\n",
            "366/366 [==============================] - 0s 842us/step - loss: 763603520.0000 - mean_squared_error: 763603520.0000\n",
            "Epoch 97/100\n",
            "366/366 [==============================] - 0s 904us/step - loss: 763595648.0000 - mean_squared_error: 763595648.0000\n",
            "Epoch 98/100\n",
            "366/366 [==============================] - 0s 917us/step - loss: 763592320.0000 - mean_squared_error: 763592320.0000\n",
            "Epoch 99/100\n",
            "366/366 [==============================] - 0s 902us/step - loss: 763584896.0000 - mean_squared_error: 763584896.0000\n",
            "Epoch 100/100\n",
            "366/366 [==============================] - 0s 1ms/step - loss: 763579776.0000 - mean_squared_error: 763579776.0000\n",
            "Model: \"sequential_7\"\n",
            "_________________________________________________________________\n",
            "Layer (type)                 Output Shape              Param #   \n",
            "=================================================================\n",
            "dense_21 (Dense)             (None, 6)                 48        \n",
            "_________________________________________________________________\n",
            "dense_22 (Dense)             (None, 6)                 42        \n",
            "_________________________________________________________________\n",
            "dense_23 (Dense)             (None, 1)                 7         \n",
            "=================================================================\n",
            "Total params: 97\n",
            "Trainable params: 97\n",
            "Non-trainable params: 0\n",
            "_________________________________________________________________\n"
          ],
          "name": "stdout"
        }
      ]
    },
    {
      "cell_type": "code",
      "metadata": {
        "id": "0mKSmP8jUZhj",
        "outputId": "dc78d99d-2c48-445e-e075-3b5a78e3e401",
        "colab": {
          "base_uri": "https://localhost:8080/",
          "height": 185
        }
      },
      "source": [
        "from sklearn import metrics\n",
        "prediction = ann.predict(X_test)\n",
        "mae4=metrics.mean_absolute_error(y_test, prediction)\n",
        "mse4=metrics.mean_squared_error(y_test, prediction)\n",
        "rmse4=np.sqrt(metrics.mean_squared_error(y_test, prediction))\n",
        "\n",
        "print('Mean Absolute Error:',mae4)\n",
        "print('Mean Squared Error:',mse4)\n",
        "print('Root Mean Squared Error:',rmse4)\n",
        "\n",
        "print('prediction:',prediction)"
      ],
      "execution_count": null,
      "outputs": [
        {
          "output_type": "stream",
          "text": [
            "Mean Absolute Error: 3359.489118482246\n",
            "Mean Squared Error: 830057519.7385877\n",
            "Root Mean Squared Error: 28810.718834117757\n",
            "prediction: [[1147.6296]\n",
            " [2147.4656]\n",
            " [1479.8044]\n",
            " ...\n",
            " [1342.5046]\n",
            " [2117.43  ]\n",
            " [1227.1719]]\n"
          ],
          "name": "stdout"
        }
      ]
    },
    {
      "cell_type": "code",
      "metadata": {
        "id": "FFtImL9CToqc",
        "outputId": "dc2e7d78-4493-481d-8469-a454c16aaa2c",
        "colab": {
          "base_uri": "https://localhost:8080/",
          "height": 84
        }
      },
      "source": [
        "eval=[mae4,mse4,rmse4]\n",
        "df=pd.Series(eval,index=['mean_absolute_error','mean_squared_error','root_mean_squared_error'],name='Evaluation Results')\n",
        "df"
      ],
      "execution_count": null,
      "outputs": [
        {
          "output_type": "execute_result",
          "data": {
            "text/plain": [
              "mean_absolute_error        3.359489e+03\n",
              "mean_squared_error         8.300575e+08\n",
              "root_mean_squared_error    2.881072e+04\n",
              "Name: Evaluation Results, dtype: float64"
            ]
          },
          "metadata": {
            "tags": []
          },
          "execution_count": 341
        }
      ]
    },
    {
      "cell_type": "markdown",
      "metadata": {
        "id": "tOxChoxqyy5R"
      },
      "source": [
        " # 9. Pick the best model based on error as well as generalisation.\n",
        "\n",
        " Now that we have different machine learning models and their respective\n",
        "errors, we can select the one with minimum error or any other selection\n",
        "scheme. It's important to make sure there is no overfitting and the model\n",
        "generalises well. We use the test data we got from splitting the original\n",
        "dataset (which acts as validation set in our case).\n",
        "\n",
        "Compare errors for each model\n",
        "\n",
        "Select the most suitable ones\n",
        "\n"
      ]
    },
    {
      "cell_type": "markdown",
      "metadata": {
        "id": "5ojBNvHwU7Dk"
      },
      "source": [
        "**Making lists for performance analysis**"
      ]
    },
    {
      "cell_type": "code",
      "metadata": {
        "id": "Ac7hLJznQah4",
        "outputId": "a0c7d788-6e9e-4b36-9f1d-f450a2a31a23",
        "colab": {
          "base_uri": "https://localhost:8080/",
          "height": 50
        }
      },
      "source": [
        "mean_absolute=[mae,mae1,mae2,mae3,mae4]\n",
        "root_mean_squared=[rmse,rmse1,rmse2,rmse3,rmse4]\n",
        "print('mean_absolute_error:',mean_absolute)\n",
        "print('root_mean-squared_error:',root_mean_squared)"
      ],
      "execution_count": null,
      "outputs": [
        {
          "output_type": "stream",
          "text": [
            "mean_absolute_error: [3719.581563422566, 1696.9534032655565, 2190.948087431694, 3288.440229670318, 3359.489118482246]\n",
            "root_mean-squared_error: [28916.017700260287, 28873.62223212334, 21703.022511686235, 21051.30678610861, 28810.718834117757]\n"
          ],
          "name": "stdout"
        }
      ]
    },
    {
      "cell_type": "markdown",
      "metadata": {
        "id": "CXXZ50m6Vsod"
      },
      "source": [
        "**Comparing Algoritms using their mean_absolute_error root_mean_squared_error**"
      ]
    },
    {
      "cell_type": "code",
      "metadata": {
        "id": "mUziT6M4V5mV",
        "outputId": "ef5099ef-cbeb-4597-b67b-6e617535a617",
        "colab": {
          "base_uri": "https://localhost:8080/",
          "height": 106
        }
      },
      "source": [
        "dt=np.array([mean_absolute,root_mean_squared])\n",
        "df=pd.DataFrame(dt,columns=['Linear Regression','Support Vector Regressor','Decision Tree','Random Forest','Artificial Neural Networks'],index=['mean_absolute','root_mean_squared'])\n",
        "df"
      ],
      "execution_count": null,
      "outputs": [
        {
          "output_type": "execute_result",
          "data": {
            "text/html": [
              "<div>\n",
              "<style scoped>\n",
              "    .dataframe tbody tr th:only-of-type {\n",
              "        vertical-align: middle;\n",
              "    }\n",
              "\n",
              "    .dataframe tbody tr th {\n",
              "        vertical-align: top;\n",
              "    }\n",
              "\n",
              "    .dataframe thead th {\n",
              "        text-align: right;\n",
              "    }\n",
              "</style>\n",
              "<table border=\"1\" class=\"dataframe\">\n",
              "  <thead>\n",
              "    <tr style=\"text-align: right;\">\n",
              "      <th></th>\n",
              "      <th>Linear Regression</th>\n",
              "      <th>Support Vector Regressor</th>\n",
              "      <th>Decision Tree</th>\n",
              "      <th>Random Forest</th>\n",
              "      <th>Artificial Neural Networks</th>\n",
              "    </tr>\n",
              "  </thead>\n",
              "  <tbody>\n",
              "    <tr>\n",
              "      <th>mean_absolute</th>\n",
              "      <td>3719.581563</td>\n",
              "      <td>1696.953403</td>\n",
              "      <td>2190.948087</td>\n",
              "      <td>3288.440230</td>\n",
              "      <td>3359.489118</td>\n",
              "    </tr>\n",
              "    <tr>\n",
              "      <th>root_mean_squared</th>\n",
              "      <td>28916.017700</td>\n",
              "      <td>28873.622232</td>\n",
              "      <td>21703.022512</td>\n",
              "      <td>21051.306786</td>\n",
              "      <td>28810.718834</td>\n",
              "    </tr>\n",
              "  </tbody>\n",
              "</table>\n",
              "</div>"
            ],
            "text/plain": [
              "                   Linear Regression  ...  Artificial Neural Networks\n",
              "mean_absolute            3719.581563  ...                 3359.489118\n",
              "root_mean_squared       28916.017700  ...                28810.718834\n",
              "\n",
              "[2 rows x 5 columns]"
            ]
          },
          "metadata": {
            "tags": []
          },
          "execution_count": 343
        }
      ]
    },
    {
      "cell_type": "code",
      "metadata": {
        "id": "Yss6Rw1MWnKX",
        "outputId": "bce2372f-5ba3-4b4c-961c-0de9e5234440",
        "colab": {
          "base_uri": "https://localhost:8080/",
          "height": 281
        }
      },
      "source": [
        "barWidth = 0.25\n",
        "models=['LR','SVR','DTC','RF','ANN']\n",
        "r1 = np.arange(len(mean_absolute))\n",
        "r2 = [x + barWidth for x in r1]\n",
        "\n",
        " \n",
        "# Make the plot\n",
        "plt.bar(r1,mean_absolute, color='#7f6d5f', width=barWidth, edgecolor='white', label='mean_absolute_error')\n",
        "plt.bar(r2,root_mean_squared, color='#557f2d', width=barWidth, edgecolor='white', label='root_mean_squared_error')\n",
        "\n",
        " \n",
        "# Add xticks on the middle of the group bars\n",
        "plt.xlabel('Models', fontweight='bold')\n",
        "plt.xticks([r + barWidth for r in range(len(mean_absolute))], models)\n",
        " \n",
        "# Create legend & Show graphic\n",
        "plt.legend()\n",
        "plt.show()"
      ],
      "execution_count": null,
      "outputs": [
        {
          "output_type": "display_data",
          "data": {
            "image/png": "[encoded data removed]",
            "text/plain": [
              "<Figure size 432x288 with 1 Axes>"
            ]
          },
          "metadata": {
            "tags": [],
            "needs_background": "light"
          }
        }
      ]
    },
    {
      "cell_type": "markdown",
      "metadata": {
        "id": "uRGUDHN1YBW9"
      },
      "source": [
        "# *From the above observations we can clearly said that Artificial Neural Networks and Decision Trees will give better predictions*"
      ]
    },
    {
      "cell_type": "markdown",
      "metadata": {
        "id": "2f3GeR07zDZF"
      },
      "source": [
        "# 10. Save your model and predict on test set.\n",
        "\n",
        "Saving the models can be done through both keras and scikitlearn. This\n",
        "helps us to load the model again or share it with others. At the end, we use\n",
        "completely unknown data from 'test.csv' to make our final predictions for\n",
        "evaluation from our chosen model in the previous step.\n",
        "\n",
        "Save models\n",
        "\n",
        "Make predictions\n"
      ]
    },
    {
      "cell_type": "code",
      "metadata": {
        "id": "O5bRkIpQzQLQ",
        "outputId": "01c59e20-3f46-4a63-ee1c-1c9c707003af",
        "colab": {
          "base_uri": "https://localhost:8080/",
          "height": 34
        }
      },
      "source": [
        "#Saving Scikitlearn models\n",
        "import joblib\n",
        "joblib.dump(decision_tree, \"decisiontree_youtubeadview.pkl\")\n",
        "decision_tree.predict(X_test)\n"
      ],
      "execution_count": null,
      "outputs": [
        {
          "output_type": "execute_result",
          "data": {
            "text/plain": [
              "array([24.,  1., 13., ...,  2.,  1., 77.])"
            ]
          },
          "metadata": {
            "tags": []
          },
          "execution_count": 348
        }
      ]
    },
    {
      "cell_type": "code",
      "metadata": {
        "id": "2rrtqB87Y57Q",
        "outputId": "37e3d86c-f78b-4047-86a9-9caf158291b1",
        "colab": {
          "base_uri": "https://localhost:8080/",
          "height": 134
        }
      },
      "source": [
        "# Saving Keras Artificial Neural Network model\n",
        "ann.save(\"ann_youtubeadview.h5\")\n",
        "ann.predict(X_test)"
      ],
      "execution_count": null,
      "outputs": [
        {
          "output_type": "execute_result",
          "data": {
            "text/plain": [
              "array([[1147.6296],\n",
              "       [2147.4656],\n",
              "       [1479.8044],\n",
              "       ...,\n",
              "       [1342.5046],\n",
              "       [2117.43  ],\n",
              "       [1227.1719]], dtype=float32)"
            ]
          },
          "metadata": {
            "tags": []
          },
          "execution_count": 347
        }
      ]
    }
  ]
}